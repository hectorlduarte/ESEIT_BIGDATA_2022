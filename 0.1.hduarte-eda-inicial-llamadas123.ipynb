{
 "cells": [
  {
   "cell_type": "code",
   "execution_count": 20,
   "metadata": {},
   "outputs": [],
   "source": [
    "import pandas as pd\n",
    "\n",
    "import os\n",
    "from pathlib import Path, PosixPath\n",
    "\n",
    "root_dir = Path('.').resolve().parent\n",
    "filename = 'llamadas123_julio_2022.csv'\n",
    "\n",
    "file_path = os.path.join(root_dir, \"ESEIT_BIGDATA_2022\", \"Data\", filename)\n",
    "file_path\n",
    "\n",
    "PosixPath('/Users/wolfrain/Documents/00 Big Data/ESEIT_BIGDATA_2022/Data/llamadas123_julio_2022.csv')\n",
    "\n",
    "df = pd.read_csv(file_path, sep=\";\", encoding=\"latin-1\")\n",
    "\n",
    "#df['TIPO_INCIDENTE'].value_counts(normalize=True)"
   ]
  },
  {
   "cell_type": "code",
   "execution_count": 21,
   "metadata": {},
   "outputs": [
    {
     "data": {
      "text/html": [
       "<div>\n",
       "<style scoped>\n",
       "    .dataframe tbody tr th:only-of-type {\n",
       "        vertical-align: middle;\n",
       "    }\n",
       "\n",
       "    .dataframe tbody tr th {\n",
       "        vertical-align: top;\n",
       "    }\n",
       "\n",
       "    .dataframe thead th {\n",
       "        text-align: right;\n",
       "    }\n",
       "</style>\n",
       "<table border=\"1\" class=\"dataframe\">\n",
       "  <thead>\n",
       "    <tr style=\"text-align: right;\">\n",
       "      <th></th>\n",
       "      <th>NUMERO_INCIDENTE</th>\n",
       "      <th>FECHA_INICIO_DESPLAZAMIENTO_MOVIL</th>\n",
       "      <th>CODIGO_LOCALIDAD</th>\n",
       "      <th>LOCALIDAD</th>\n",
       "      <th>EDAD</th>\n",
       "      <th>UNIDAD</th>\n",
       "      <th>GENERO</th>\n",
       "      <th>RED</th>\n",
       "      <th>TIPO_INCIDENTE</th>\n",
       "      <th>PRIORIDAD</th>\n",
       "      <th>RECEPCION</th>\n",
       "    </tr>\n",
       "  </thead>\n",
       "  <tbody>\n",
       "    <tr>\n",
       "      <th>0</th>\n",
       "      <td>CRU-00278353-22</td>\n",
       "      <td>2022-07-01 00:08:59</td>\n",
       "      <td>11</td>\n",
       "      <td>Suba</td>\n",
       "      <td>88</td>\n",
       "      <td>A¤os</td>\n",
       "      <td>FEMENINO</td>\n",
       "      <td>Norte</td>\n",
       "      <td>Accidente Cerebro Vascular</td>\n",
       "      <td>ALTA</td>\n",
       "      <td>2022-07-01 03:40:13</td>\n",
       "    </tr>\n",
       "    <tr>\n",
       "      <th>1</th>\n",
       "      <td>CRU-00278360-22</td>\n",
       "      <td>2022-07-01 00:14:58</td>\n",
       "      <td>11</td>\n",
       "      <td>Suba</td>\n",
       "      <td>16</td>\n",
       "      <td>A¤os</td>\n",
       "      <td>MASCULINO</td>\n",
       "      <td>Norte</td>\n",
       "      <td>Herido</td>\n",
       "      <td>ALTA</td>\n",
       "      <td>2022-07-01 03:38:13</td>\n",
       "    </tr>\n",
       "    <tr>\n",
       "      <th>2</th>\n",
       "      <td>CRU-00278365-22</td>\n",
       "      <td>2022-07-01 00:21:59</td>\n",
       "      <td>18</td>\n",
       "      <td>Rafael Uribe Uribe</td>\n",
       "      <td>52</td>\n",
       "      <td>A¤os</td>\n",
       "      <td>FEMENINO</td>\n",
       "      <td>Centro Oriente</td>\n",
       "      <td>Evento Respiratorio</td>\n",
       "      <td>CRITICA</td>\n",
       "      <td>2022-07-01 04:08:24</td>\n",
       "    </tr>\n",
       "    <tr>\n",
       "      <th>3</th>\n",
       "      <td>CRU-00278370-22</td>\n",
       "      <td>2022-07-01 00:38:38</td>\n",
       "      <td>19</td>\n",
       "      <td>Ciudad Bol¡var</td>\n",
       "      <td>SIN_DATO</td>\n",
       "      <td>SIN_DATO</td>\n",
       "      <td>SIN_DATO</td>\n",
       "      <td>Privada</td>\n",
       "      <td>Herido</td>\n",
       "      <td>ALTA</td>\n",
       "      <td>0000-00-00 00:00:00</td>\n",
       "    </tr>\n",
       "    <tr>\n",
       "      <th>4</th>\n",
       "      <td>CRU-00278372-22</td>\n",
       "      <td>2022-07-01 00:53:32</td>\n",
       "      <td>1</td>\n",
       "      <td>Usaqun</td>\n",
       "      <td>33</td>\n",
       "      <td>A¤os</td>\n",
       "      <td>MASCULINO</td>\n",
       "      <td>Norte</td>\n",
       "      <td>Intento de Suicidio</td>\n",
       "      <td>ALTA</td>\n",
       "      <td>2022-07-01 03:25:29</td>\n",
       "    </tr>\n",
       "  </tbody>\n",
       "</table>\n",
       "</div>"
      ],
      "text/plain": [
       "  NUMERO_INCIDENTE FECHA_INICIO_DESPLAZAMIENTO_MOVIL  CODIGO_LOCALIDAD  \\\n",
       "0  CRU-00278353-22               2022-07-01 00:08:59                11   \n",
       "1  CRU-00278360-22               2022-07-01 00:14:58                11   \n",
       "2  CRU-00278365-22               2022-07-01 00:21:59                18   \n",
       "3  CRU-00278370-22               2022-07-01 00:38:38                19   \n",
       "4  CRU-00278372-22               2022-07-01 00:53:32                 1   \n",
       "\n",
       "            LOCALIDAD      EDAD    UNIDAD     GENERO             RED  \\\n",
       "0                Suba        88      A¤os   FEMENINO           Norte   \n",
       "1                Suba        16      A¤os  MASCULINO           Norte   \n",
       "2  Rafael Uribe Uribe        52      A¤os   FEMENINO  Centro Oriente   \n",
       "3      Ciudad Bol¡var  SIN_DATO  SIN_DATO   SIN_DATO         Privada   \n",
       "4             Usaqun        33      A¤os  MASCULINO           Norte   \n",
       "\n",
       "               TIPO_INCIDENTE PRIORIDAD            RECEPCION  \n",
       "0  Accidente Cerebro Vascular      ALTA  2022-07-01 03:40:13  \n",
       "1                      Herido      ALTA  2022-07-01 03:38:13  \n",
       "2         Evento Respiratorio   CRITICA  2022-07-01 04:08:24  \n",
       "3                      Herido      ALTA  0000-00-00 00:00:00  \n",
       "4         Intento de Suicidio      ALTA  2022-07-01 03:25:29  "
      ]
     },
     "execution_count": 21,
     "metadata": {},
     "output_type": "execute_result"
    }
   ],
   "source": [
    "df.head()"
   ]
  },
  {
   "cell_type": "markdown",
   "metadata": {},
   "source": []
  },
  {
   "cell_type": "code",
   "execution_count": 22,
   "metadata": {},
   "outputs": [
    {
     "data": {
      "text/plain": [
       "Herido                                    0.255228\n",
       "Inconsciente / Paro cardiorespiratorio    0.140942\n",
       "Evento Respiratorio                       0.130525\n",
       "Convulsi¢n                                0.090157\n",
       "Enfermo                                   0.063730\n",
       "Trastorno Mental                          0.058062\n",
       "Dolor Tor cico                            0.054079\n",
       "Intento de Suicidio                       0.051704\n",
       "Accidente Cerebro Vascular                0.029950\n",
       "S¡ntomas Gastrointestinales               0.028878\n",
       "Ca¡da de Altura                           0.023899\n",
       "Patolog¡a Ginecobsttrica                 0.021065\n",
       "Intoxicaci¢n                              0.019916\n",
       "Amenaza de Suicidio                       0.011337\n",
       "Acompa¤amiento Evento                     0.007813\n",
       "Violencia Sexual                          0.005285\n",
       "Maltrato                                  0.002911\n",
       "Electrocuci¢n / rescate                   0.001379\n",
       "Sangrado Vaginal                          0.001379\n",
       "Quemaduras                                0.000919\n",
       "Solicitud de Apoyo                        0.000843\n",
       "Name: TIPO_INCIDENTE, dtype: float64"
      ]
     },
     "execution_count": 22,
     "metadata": {},
     "output_type": "execute_result"
    }
   ],
   "source": [
    "df['TIPO_INCIDENTE'].value_counts(normalize=True)"
   ]
  },
  {
   "cell_type": "code",
   "execution_count": 23,
   "metadata": {},
   "outputs": [
    {
     "data": {
      "text/plain": [
       "array(['88', '16', '52', 'SIN_DATO', '33', '57', '65', '14', '83', '35',\n",
       "       '19', '53', '56', '45', '2', '18', '34', '84', '80', '7', '64',\n",
       "       '41', '28', '23', '85', '92', '38', '11', '58', '70', '50', '27',\n",
       "       '67', '54', '87', '24', '90', '99', '49', '91', '21', '62', '59',\n",
       "       '26', '78', '30', '32', '51', '15', '79', '37', '60', '76', '22',\n",
       "       '47', '61', '82', '86', '77', '63', '39', '89', '36', '97', '40',\n",
       "       '75', '13', '25', '73', '69', '72', '68', '44', '31', '74', '81',\n",
       "       '43', '20', '66', '10', '48', '29', '8', '17', '94', '55', '1',\n",
       "       '4', '3', '9', '71', '46', '6', '95', '93', '98', '96', '42', '5',\n",
       "       '12'], dtype=object)"
      ]
     },
     "execution_count": 23,
     "metadata": {},
     "output_type": "execute_result"
    }
   ],
   "source": [
    "df['EDAD'].unique()"
   ]
  },
  {
   "cell_type": "code",
   "execution_count": 24,
   "metadata": {},
   "outputs": [
    {
     "data": {
      "text/plain": [
       "21"
      ]
     },
     "execution_count": 24,
     "metadata": {},
     "output_type": "execute_result"
    }
   ],
   "source": [
    "#Funciones para listas\n",
    "len(df['TIPO_INCIDENTE'].unique())"
   ]
  },
  {
   "cell_type": "code",
   "execution_count": 32,
   "metadata": {},
   "outputs": [
    {
     "name": "stdout",
     "output_type": "stream",
     "text": [
      "columna  NUMERO_INCIDENTE\n",
      "columna  FECHA_INICIO_DESPLAZAMIENTO_MOVIL\n",
      "columna  CODIGO_LOCALIDAD\n",
      "columna  LOCALIDAD\n",
      "columna  EDAD\n",
      "columna  UNIDAD\n",
      "columna  GENERO\n",
      "columna  RED\n",
      "columna  TIPO_INCIDENTE\n",
      "columna  PRIORIDAD\n",
      "columna  RECEPCION\n",
      "fuera del loop\n"
     ]
    }
   ],
   "source": [
    "#Funciones para listas\n",
    "len(df['TIPO_INCIDENTE'].unique())"
   ]
  },
  {
   "cell_type": "code",
   "execution_count": 33,
   "metadata": {},
   "outputs": [
    {
     "name": "stdout",
     "output_type": "stream",
     "text": [
      "columna  NUMERO_INCIDENTE 12015\n",
      "columna  FECHA_INICIO_DESPLAZAMIENTO_MOVIL 12781\n",
      "columna  CODIGO_LOCALIDAD 20\n",
      "columna  LOCALIDAD 20\n",
      "columna  EDAD 100\n",
      "columna  UNIDAD 6\n",
      "columna  GENERO 3\n",
      "columna  RED 5\n",
      "columna  TIPO_INCIDENTE 21\n",
      "columna  PRIORIDAD 4\n",
      "columna  RECEPCION 5235\n",
      "fuera del loop\n"
     ]
    }
   ],
   "source": [
    "for col in lista_columnas:\n",
    "    listas_unicos = df[col].unique()\n",
    "    n_unicos =len(listas_unicos)\n",
    "    print('columna ', col, n_unicos)\n",
    "\n",
    "print('fuera del loop')"
   ]
  },
  {
   "cell_type": "code",
   "execution_count": 36,
   "metadata": {},
   "outputs": [
    {
     "name": "stdout",
     "output_type": "stream",
     "text": [
      "fuera del loop\n",
      "{'NUMERO_INCIDENTE': 12015, 'FECHA_INICIO_DESPLAZAMIENTO_MOVIL': 12781, 'CODIGO_LOCALIDAD': 20, 'LOCALIDAD': 20, 'EDAD': 100, 'UNIDAD': 6, 'GENERO': 3, 'RED': 5, 'TIPO_INCIDENTE': 21, 'PRIORIDAD': 4, 'RECEPCION': 5235}\n"
     ]
    }
   ],
   "source": [
    "# Crear un diccionario vacio\n",
    "\n",
    "dict_reporte = dict()\n",
    "#dict_reporte = {} # opción menos estetica\n",
    "\n",
    "for col in lista_columnas:\n",
    "    listas_unicos = df[col].unique()\n",
    "    n_unicos =len(listas_unicos)\n",
    "    dict_reporte[col] = n_unicos\n",
    "    #print('columna ', col, n_unicos)\n",
    "\n",
    "print('fuera del loop')\n",
    "print(dict_reporte)\n",
    "\n"
   ]
  },
  {
   "cell_type": "code",
   "execution_count": 40,
   "metadata": {},
   "outputs": [
    {
     "data": {
      "text/html": [
       "<div>\n",
       "<style scoped>\n",
       "    .dataframe tbody tr th:only-of-type {\n",
       "        vertical-align: middle;\n",
       "    }\n",
       "\n",
       "    .dataframe tbody tr th {\n",
       "        vertical-align: top;\n",
       "    }\n",
       "\n",
       "    .dataframe thead th {\n",
       "        text-align: right;\n",
       "    }\n",
       "</style>\n",
       "<table border=\"1\" class=\"dataframe\">\n",
       "  <thead>\n",
       "    <tr style=\"text-align: right;\">\n",
       "      <th></th>\n",
       "      <th>Conteo</th>\n",
       "    </tr>\n",
       "  </thead>\n",
       "  <tbody>\n",
       "    <tr>\n",
       "      <th>NUMERO_INCIDENTE</th>\n",
       "      <td>12015</td>\n",
       "    </tr>\n",
       "    <tr>\n",
       "      <th>FECHA_INICIO_DESPLAZAMIENTO_MOVIL</th>\n",
       "      <td>12781</td>\n",
       "    </tr>\n",
       "    <tr>\n",
       "      <th>CODIGO_LOCALIDAD</th>\n",
       "      <td>20</td>\n",
       "    </tr>\n",
       "    <tr>\n",
       "      <th>LOCALIDAD</th>\n",
       "      <td>20</td>\n",
       "    </tr>\n",
       "    <tr>\n",
       "      <th>EDAD</th>\n",
       "      <td>100</td>\n",
       "    </tr>\n",
       "    <tr>\n",
       "      <th>UNIDAD</th>\n",
       "      <td>6</td>\n",
       "    </tr>\n",
       "    <tr>\n",
       "      <th>GENERO</th>\n",
       "      <td>3</td>\n",
       "    </tr>\n",
       "    <tr>\n",
       "      <th>RED</th>\n",
       "      <td>5</td>\n",
       "    </tr>\n",
       "    <tr>\n",
       "      <th>TIPO_INCIDENTE</th>\n",
       "      <td>21</td>\n",
       "    </tr>\n",
       "    <tr>\n",
       "      <th>PRIORIDAD</th>\n",
       "      <td>4</td>\n",
       "    </tr>\n",
       "    <tr>\n",
       "      <th>RECEPCION</th>\n",
       "      <td>5235</td>\n",
       "    </tr>\n",
       "  </tbody>\n",
       "</table>\n",
       "</div>"
      ],
      "text/plain": [
       "                                   Conteo\n",
       "NUMERO_INCIDENTE                    12015\n",
       "FECHA_INICIO_DESPLAZAMIENTO_MOVIL   12781\n",
       "CODIGO_LOCALIDAD                       20\n",
       "LOCALIDAD                              20\n",
       "EDAD                                  100\n",
       "UNIDAD                                  6\n",
       "GENERO                                  3\n",
       "RED                                     5\n",
       "TIPO_INCIDENTE                         21\n",
       "PRIORIDAD                               4\n",
       "RECEPCION                            5235"
      ]
     },
     "execution_count": 40,
     "metadata": {},
     "output_type": "execute_result"
    }
   ],
   "source": [
    "df_reporte = pd.DataFrame.from_dict(dict_reporte, orient='index')\n",
    "df_reporte.rename({0: 'Conteo'}, inplace=True, axis=1)\n",
    "df_reporte"
   ]
  },
  {
   "cell_type": "code",
   "execution_count": 42,
   "metadata": {},
   "outputs": [],
   "source": [
    "out_name = 'reporte_' + filename\n",
    "out_name\n",
    "\n",
    "out_path = os.path.join(root_dir, \"ESEIT_BIGDATA_2022\", \"Procesos\", out_name)\n",
    "df_reporte.to_csv(out_path)"
   ]
  }
 ],
 "metadata": {
  "kernelspec": {
   "display_name": "Python 3.9.7 64-bit",
   "language": "python",
   "name": "python3"
  },
  "language_info": {
   "codemirror_mode": {
    "name": "ipython",
    "version": 3
   },
   "file_extension": ".py",
   "mimetype": "text/x-python",
   "name": "python",
   "nbconvert_exporter": "python",
   "pygments_lexer": "ipython3",
   "version": "3.9.7"
  },
  "orig_nbformat": 4,
  "vscode": {
   "interpreter": {
    "hash": "aee8b7b246df8f9039afb4144a1f6fd8d2ca17a180786b69acc140d282b71a49"
   }
  }
 },
 "nbformat": 4,
 "nbformat_minor": 2
}
