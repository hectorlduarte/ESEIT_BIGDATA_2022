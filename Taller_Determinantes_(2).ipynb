{
  "nbformat": 4,
  "nbformat_minor": 0,
  "metadata": {
    "colab": {
      "provenance": [],
      "collapsed_sections": [],
      "include_colab_link": true
    },
    "kernelspec": {
      "name": "python3",
      "display_name": "Python 3"
    },
    "language_info": {
      "name": "python"
    }
  },
  "cells": [
    {
      "cell_type": "markdown",
      "metadata": {
        "id": "view-in-github",
        "colab_type": "text"
      },
      "source": [
        "<a href=\"https://colab.research.google.com/github/hectorlduarte/ESEIT_BIGDATA_2022/blob/main/Taller_Determinantes_(2).ipynb\" target=\"_parent\"><img src=\"https://colab.research.google.com/assets/colab-badge.svg\" alt=\"Open In Colab\"/></a>"
      ]
    },
    {
      "cell_type": "markdown",
      "source": [
        "**TALLER DETERMINANTES**"
      ],
      "metadata": {
        "id": "sKi5SWNvpm_7"
      }
    },
    {
      "cell_type": "code",
      "source": [
        "import numpy as np\n",
        "import pandas as pd\n",
        "import math\n",
        "from math import pi"
      ],
      "metadata": {
        "id": "KEgxUGO1q_QC"
      },
      "execution_count": null,
      "outputs": []
    },
    {
      "cell_type": "markdown",
      "source": [
        "#Calcule las magnitudes de los vectores i) v =(2, 2); ii) v = (2, 2 √3); iii) v = ( -2 √3, 2); iv) v = (23,23); v) v = (6, 26); vi) v = (0, 3)."
      ],
      "metadata": {
        "id": "IYQxHDA7p_rX"
      }
    },
    {
      "cell_type": "code",
      "source": [
        "#A. v =(2, 2)\n",
        "v = np.array([2,2])\n",
        "\n",
        "magnitud = np.linalg.norm(v)\n",
        "print('la magnitud del vector', v, 'es =', round(magnitud,2))"
      ],
      "metadata": {
        "colab": {
          "base_uri": "https://localhost:8080/"
        },
        "id": "urbTp0_7qJVf",
        "outputId": "ee8ab105-8e09-4c94-c29a-90097c983d32"
      },
      "execution_count": null,
      "outputs": [
        {
          "output_type": "stream",
          "name": "stdout",
          "text": [
            "la magnitud del vector [2 2] es = 2.83\n"
          ]
        }
      ]
    },
    {
      "cell_type": "code",
      "source": [
        "#B. v =(2, 2 √3)\n",
        "v = np.array([2,(2*math.sqrt(3))])\n",
        "\n",
        "magnitud = np.linalg.norm(v)\n",
        "print('la magnitud del vector', v, 'es =', round(magnitud,2))"
      ],
      "metadata": {
        "colab": {
          "base_uri": "https://localhost:8080/"
        },
        "id": "1AuuPKn8s5mL",
        "outputId": "9511e413-92ea-4b6e-fb53-85f9b72298b9"
      },
      "execution_count": null,
      "outputs": [
        {
          "output_type": "stream",
          "name": "stdout",
          "text": [
            "la magnitud del vector [2.         3.46410162] es = 4.0\n"
          ]
        }
      ]
    },
    {
      "cell_type": "code",
      "source": [
        " #C. v = ( -2 √3, 2)\n",
        "v = np.array([(-2*math.sqrt(3)),2])\n",
        "magnitud = np.linalg.norm(v)\n",
        "print('la magnitud del vector', v, 'es =', round(magnitud,2))"
      ],
      "metadata": {
        "colab": {
          "base_uri": "https://localhost:8080/"
        },
        "id": "tKmD3HxduW9E",
        "outputId": "65b2583d-e03f-4d5b-fb89-ec3d85dfb01e"
      },
      "execution_count": null,
      "outputs": [
        {
          "output_type": "stream",
          "name": "stdout",
          "text": [
            "la magnitud del vector [-3.46410162  2.        ] es = 4.0\n"
          ]
        }
      ]
    },
    {
      "cell_type": "code",
      "source": [
        "#D. v = (23,23)\n",
        "v= np.array([23,23])\n",
        "magnitud = np.linalg.norm(v)\n",
        "print('la magnitud del vector', v, 'es =', round(magnitud,2))"
      ],
      "metadata": {
        "colab": {
          "base_uri": "https://localhost:8080/"
        },
        "id": "pOPVViVCmuJ7",
        "outputId": "1fbfc504-f91a-4fc6-fb21-70342faf31d2"
      },
      "execution_count": null,
      "outputs": [
        {
          "output_type": "stream",
          "name": "stdout",
          "text": [
            "la magnitud del vector [23 23] es = 32.53\n"
          ]
        }
      ]
    },
    {
      "cell_type": "code",
      "source": [
        "#E. v = (6,26)\n",
        "v = np.array([6,26])\n",
        "\n",
        "magnitud = np.linalg.norm(v)\n",
        "print('la magnitud del vector', v, 'es =', round(magnitud,2))"
      ],
      "metadata": {
        "colab": {
          "base_uri": "https://localhost:8080/"
        },
        "id": "gg4PuI_BncpH",
        "outputId": "70648099-b214-4505-a7a3-216ad657e713"
      },
      "execution_count": null,
      "outputs": [
        {
          "output_type": "stream",
          "name": "stdout",
          "text": [
            "la magnitud del vector [ 6 26] es = 26.68\n"
          ]
        }
      ]
    },
    {
      "cell_type": "code",
      "source": [
        "#F. v = (0,3)\n",
        "v = np.array([0,3])\n",
        "\n",
        "magnitud = np.linalg.norm(v)\n",
        "print('la magnitud del vector', v, 'es =', round(magnitud,2))"
      ],
      "metadata": {
        "id": "kFUndgKhnkKc"
      },
      "execution_count": null,
      "outputs": []
    },
    {
      "cell_type": "markdown",
      "source": [
        "**2.\tCalcule las direcciones de los vectores anteriores**"
      ],
      "metadata": {
        "id": "1Tm8U26yo49h"
      }
    },
    {
      "cell_type": "code",
      "source": [
        "#A. v =(2, 2)\n",
        "a = 2\n",
        "b = 2\n",
        "\n",
        "v = np.array([a,b])\n",
        "\n",
        "Direccion = math.atan2(b,a)\n",
        "angulo = math.degrees(Direccion)\n",
        "print('la direccion del vector', v, 'es =', round(Direccion,2),'radianes 0', round(angulo,2), 'Grados')"
      ],
      "metadata": {
        "id": "KUlppfHGo8zA"
      },
      "execution_count": null,
      "outputs": []
    },
    {
      "cell_type": "code",
      "source": [
        "#B. v =(2, 2 √3)\n",
        "a = 2\n",
        "b = round(2*math.sqrt(3),4)\n",
        "\n",
        "v = np.array([a,b])\n",
        "\n",
        "Direccion = math.atan2(b,a)\n",
        "angulo = math.degrees(Direccion)\n",
        "print('la direccion del vector', v, 'es =', round(Direccion,2),'radianes 0', round(angulo,2), 'Grados')"
      ],
      "metadata": {
        "id": "u1n3h4s3B99F"
      },
      "execution_count": null,
      "outputs": []
    },
    {
      "cell_type": "code",
      "source": [
        "#C. v = ( -2 √3, 2)\n",
        "a = round(2*math.sqrt(3),4)\n",
        "b = 2\n",
        "\n",
        "v = np.array([a,b])\n",
        "\n",
        "Direccion = math.atan2(b,a)\n",
        "angulo = math.degrees(Direccion)\n",
        "print('la direccion del vector', v, 'es =', round(Direccion,2),'radianes 0', round(angulo,2), 'Grados')"
      ],
      "metadata": {
        "id": "3yXIbZhuDWy-"
      },
      "execution_count": null,
      "outputs": []
    },
    {
      "cell_type": "code",
      "source": [
        "#D. v = (23,23)\n",
        "a = 23\n",
        "b = 23\n",
        "\n",
        "v = np.array([a,b])\n",
        "\n",
        "Direccion = math.atan2(b,a)\n",
        "angulo = math.degrees(Direccion)\n",
        "print('la direccion del vector', v, 'es =', round(Direccion,2),'radianes 0', round(angulo,2), 'Grados')"
      ],
      "metadata": {
        "id": "LnLhkEBND2Aw"
      },
      "execution_count": null,
      "outputs": []
    },
    {
      "cell_type": "code",
      "source": [
        "#E. v = (6,26)\n",
        "a = 6\n",
        "b = 26\n",
        "\n",
        "v = np.array([a,b])\n",
        "\n",
        "Direccion = math.atan2(b,a)\n",
        "angulo = math.degrees(Direccion)\n",
        "print('la direccion del vector', v, 'es =', round(Direccion,2),'radianes 0', round(angulo,2), 'Grados')"
      ],
      "metadata": {
        "id": "D3UGGzuzETX6"
      },
      "execution_count": null,
      "outputs": []
    },
    {
      "cell_type": "code",
      "source": [
        "#F. v = (0,3)\n",
        "a = 0\n",
        "b = 3\n",
        "\n",
        "v = np.array([a,b])\n",
        "\n",
        "Direccion = math.atan2(b,a)\n",
        "angulo = math.degrees(Direccion)\n",
        "print('la direccion del vector', v, 'es =', round(Direccion,2),'radianes 0', round(angulo,2), 'Grados')"
      ],
      "metadata": {
        "id": "bvAl0kXyEjE6"
      },
      "execution_count": null,
      "outputs": []
    },
    {
      "cell_type": "markdown",
      "source": [
        "**3.\tEncuentre un vector unitario que tiene la misma dirección que:**"
      ],
      "metadata": {
        "id": "RZA9QRzzE8Fg"
      }
    },
    {
      "cell_type": "code",
      "source": [
        "#A)\tv = 2i - 3j\n",
        "\n",
        "V=np.array([2,3])\n",
        "\n",
        "magnitud = np.linalg.norm(V)\n",
        "Vector_Unitario = V/magnitud\n",
        "print('El vector unitario para', V, 'es',Vector_Unitario)"
      ],
      "metadata": {
        "id": "B2O72J1OFSDT"
      },
      "execution_count": null,
      "outputs": []
    },
    {
      "cell_type": "code",
      "source": [
        "#B v = 6i + 10j\n",
        "\n",
        "V=np.array([6,10])\n",
        "\n",
        "magnitud = np.linalg.norm(V)\n",
        "Vector_Unitario = V/magnitud\n",
        "print('El vector unitario para', V, 'es',Vector_Unitario)"
      ],
      "metadata": {
        "id": "JOm40ugqGcHA"
      },
      "execution_count": null,
      "outputs": []
    },
    {
      "cell_type": "code",
      "source": [
        "#C v = (2, 4, -3)\n",
        "V=np.array([2,4,-3])\n",
        "\n",
        "magnitud = np.linalg.norm(V)\n",
        "Vector_Unitario = V/magnitud\n",
        "print('El vector unitario para', V, 'es',Vector_Unitario)"
      ],
      "metadata": {
        "id": "QF0EMv-iGn8q"
      },
      "execution_count": null,
      "outputs": []
    },
    {
      "cell_type": "markdown",
      "source": [
        "**4.\tEncuentre un vector v que tenga la magnitud y dirección dadas:**"
      ],
      "metadata": {
        "id": "7iS2F3TcHIG-"
      }
    },
    {
      "cell_type": "code",
      "source": [
        "#A\t|v|  = 3,θ =  π/6\n",
        "# x = |v| * cos0\n",
        "# y = |v| * sen0\n",
        "\n",
        "mag = 3\n",
        "\n",
        "x = round(mag * np.cos(pi/6),2)\n",
        "y = round(mag * np.sin(pi/6),2)\n",
        "\n",
        "V = np.array([x,y])\n",
        "\n",
        "print('el vector para la magnitud y angulo dado es:', V)"
      ],
      "metadata": {
        "id": "TZcSicM0HNaf"
      },
      "execution_count": null,
      "outputs": []
    },
    {
      "cell_type": "code",
      "source": [
        "#B|v|  = 1,θ =  π/4\n",
        "# x = |v| * cos0\n",
        "# y = |v| * sen0\n",
        "\n",
        "mag = 1\n",
        "\n",
        "x = round(mag * np.cos(pi/4),2)\n",
        "y = round(mag * np.sin(pi/4),2)\n",
        "\n",
        "V = np.array([x,y])\n",
        "\n",
        "print('el vector para la magnitud y angulo dado es:', V)"
      ],
      "metadata": {
        "id": "W18-Uc0PZCvW"
      },
      "execution_count": null,
      "outputs": []
    },
    {
      "cell_type": "code",
      "source": [
        "#C |v| = 7,θ =  2π/3\n",
        "# x = |v| * cos0\n",
        "# y = |v| * sen0\n",
        "\n",
        "mag = 7\n",
        "\n",
        "x = round(mag * np.cos((2*pi)/3),2)\n",
        "y = round(mag * np.sin((2*pi)/3),2)\n",
        "\n",
        "V = np.array([x,y])\n",
        "\n",
        "print('el vector para la magnitud y angulo dado es:', V)"
      ],
      "metadata": {
        "id": "MtkiiG6uZbLW"
      },
      "execution_count": null,
      "outputs": []
    },
    {
      "cell_type": "markdown",
      "source": [
        "**5.Demuestre que el vector 1/√3  i - √(2/3  j) es un vector unitario.**"
      ],
      "metadata": {
        "id": "3HxwC5k5bAE2"
      }
    },
    {
      "cell_type": "code",
      "source": [
        "#Demuestre que el vector 1/√3  i - √(2/3  j) es un vector unitario.\n",
        "#Un vector unitario es un vector que tiene direccion y sentido\n",
        "#no tiene dimencion y su magnitud o modulo es = 1\n",
        "\n",
        "#|u| = 1/√3 i -  √(2/3) j\n",
        "\n",
        "i = (1/math.sqrt(3)) \n",
        "j = math.sqrt(2/3)\n",
        "\n",
        "Vector_Unitario = math.sqrt((i)**2 + (j)**2)\n",
        "\n",
        "print('el vector es unitario por que su resultado es igual a ', Vector_Unitario)"
      ],
      "metadata": {
        "id": "EwgndUD2adi5"
      },
      "execution_count": null,
      "outputs": []
    },
    {
      "cell_type": "markdown",
      "source": [
        "**6.Encuentre el ángulo entre los vectores y el producto escalar de:**\n",
        "\n",
        "a) u = 2i + 3j y v = 27i + j.\n",
        "b) u = 3/-8, v = -5 / 1."
      ],
      "metadata": {
        "id": "yWEsXNVr1xsA"
      }
    },
    {
      "cell_type": "code",
      "source": [
        "u = np.array([2,3])\n",
        "v = np.array([27,1])\n",
        "a = np.dot(u,v)\n",
        "\n",
        "teta= np.arccos(np.dot(u,v)/(np.linalg.norm(u)*np.linalg.norm(v)))\n",
        "teta=np.degrees(teta)\n",
        "\n",
        "print('el angulo entre los vectores es:',teta,'y el producto escalar para los vectores es:',a) \n"
      ],
      "metadata": {
        "id": "6hanGJID2ejY"
      },
      "execution_count": null,
      "outputs": []
    },
    {
      "cell_type": "code",
      "source": [
        "u = np.array([3/-8])\n",
        "v = np.array([-5/1])\n",
        "a = np.dot(u,v)\n",
        "\n",
        "teta= np.arccos(np.dot(u,v)/(np.linalg.norm(u)*np.linalg.norm(v)))\n",
        "teta=np.degrees(teta)\n",
        "\n",
        "print('el angulo entre los vectores es:',teta,'y el producto escalar para los vectores es:',a, 'es decir que son vectores paralelos')"
      ],
      "metadata": {
        "id": "Yjv8BuF1YV5T"
      },
      "execution_count": null,
      "outputs": []
    },
    {
      "cell_type": "markdown",
      "source": [
        "**7. Demuestre que los vectores u = (2, -3) y v = (-4, 6) son paralelos.**"
      ],
      "metadata": {
        "id": "6QD__cI9ZpnS"
      }
    },
    {
      "cell_type": "code",
      "source": [
        "u = np.array([2,-3])\n",
        "v = np.array([-4,6])\n",
        "\n",
        "\n",
        "teta= np.arccos(np.dot(u,v)/(np.linalg.norm(u)*np.linalg.norm(v)))\n",
        "teta=np.degrees(teta)\n",
        "print (teta)\n",
        "\n"
      ],
      "metadata": {
        "id": "2i-2UDlOaAvb"
      },
      "execution_count": null,
      "outputs": []
    },
    {
      "cell_type": "code",
      "source": [
        "from numpy.lib.shape_base import vsplit\n",
        "def angulo(u,v):\n",
        "\n",
        " u = np.array([2,-3])\n",
        " v = np.array([-4,6])\n",
        "\n",
        "  #Calcula la norma de a y b\n",
        "\n",
        "norma_u = np.linalg.norm(u)\n",
        "norma_v = np.linalg.norm(v)\n",
        "\n",
        "resultado = np.dot(u,v) / (norma_u*norma_v)\n",
        "\n",
        "  #despejando theta:\n",
        "angulo = np.rad2deg(np.arccos(resultado)) \n",
        "\n",
        "print (angulo)\n"
      ],
      "metadata": {
        "id": "TYNEClkCdNKk"
      },
      "execution_count": null,
      "outputs": []
    },
    {
      "cell_type": "markdown",
      "source": [
        "**8. Demuestre que los vectores u = 3i + 4j y v = -4i + 3j son ortogonales**"
      ],
      "metadata": {
        "id": "uwc8LxMiexZ9"
      }
    },
    {
      "cell_type": "code",
      "source": [
        "u = np.array([3,4])\n",
        "v = np.array([-4,3])\n",
        "\n",
        "\n",
        "teta= np.arccos(np.dot(u,v)/(np.linalg.norm(u)*np.linalg.norm(v)))\n",
        "teta=np.degrees(teta)\n",
        "print ('En este caso los vectores son ortogonales ya que el angulo es igual a:',teta,'grados')\n"
      ],
      "metadata": {
        "id": "ORdL2uxze345"
      },
      "execution_count": null,
      "outputs": []
    },
    {
      "cell_type": "markdown",
      "source": [
        "**9. Sean u = 2i + 3j y v = i + j. Calcule proyv u**\n"
      ],
      "metadata": {
        "id": "vCHTHIbwfxTT"
      }
    },
    {
      "cell_type": "code",
      "source": [
        "u = np.array([2,3])\n",
        "v = np.array([1,1])\n",
        "v_norm = np.sqrt(sum(v**2))\n",
        "print(v_norm)\n",
        "proj_of_u_on_v = (np.dot(u,v)/v_norm**2)*v\n",
        "\n",
        "print(\"La proyeccion del vector u sobre el vector v es:\",proj_of_u_on_v )\n"
      ],
      "metadata": {
        "id": "QnYMCKZ9f0IL"
      },
      "execution_count": null,
      "outputs": []
    },
    {
      "cell_type": "markdown",
      "source": [
        "**10. Sean u = 23i + 6j y v = 2i + αj. Determine a tal que:** (falta)\n"
      ],
      "metadata": {
        "id": "OsjNDm0ficih"
      }
    },
    {
      "cell_type": "markdown",
      "source": [
        "a) u y v son ortogonales\n"
      ],
      "metadata": {
        "id": "WOpyPktki4jh"
      }
    },
    {
      "cell_type": "code",
      "source": [],
      "metadata": {
        "id": "Ww8loVCeVYS3"
      },
      "execution_count": null,
      "outputs": []
    },
    {
      "cell_type": "code",
      "source": [
        "u = np.array([23,6])\n",
        "v = np.array([2,a])\n",
        "\n",
        "# Despejar alfa \n",
        "\n",
        "magnitud_u = np.linalg.norm(u)\n",
        "magnitud_v = np.linalg.norm(v)\n",
        "\n",
        "teta = np.arccos(np.dot(u,v)/(np.linalg.norm(u)*np.linalg.norm(v)))\n",
        "teta =np.degrees(teta)\n",
        "\n",
        "print (teta)\n",
        "print (magnitud_u) \n",
        "print (magnitud_v) \n",
        "\n",
        "Alfa = (magnitud_u)*(magnitud_v)*(teta) \n",
        "print (Alfa)"
      ],
      "metadata": {
        "id": "i53GKwQDjmtK"
      },
      "execution_count": null,
      "outputs": []
    },
    {
      "cell_type": "code",
      "source": [
        "u.v = magnitud u * magnitud v * coseno (angulo)\n",
        "\n"
      ],
      "metadata": {
        "id": "B-BUqCWSihDd"
      },
      "execution_count": null,
      "outputs": []
    },
    {
      "cell_type": "code",
      "source": [
        "#A. v =(2, 2)\n",
        "v = np.array([2,2])\n",
        "\n",
        "magnitud = np.linalg.norm(v)\n",
        "print('la magnitud del vector', v, 'es =', round(magnitud,2))"
      ],
      "metadata": {
        "id": "-nlDkl7Gi1vK"
      },
      "execution_count": null,
      "outputs": []
    },
    {
      "cell_type": "markdown",
      "source": [
        "b) u y v son paralelos\n",
        "c) El angulo entre u y v es π/4\n",
        "d) El angulo entre u y v es π/3 (4)"
      ],
      "metadata": {
        "id": "vq8l-jCPjqp7"
      }
    },
    {
      "cell_type": "markdown",
      "source": [
        "**11. Calcule la distancia entre los puntos (3, 21, 6) y (22, 3, 5).**"
      ],
      "metadata": {
        "id": "dTVdQSVWmc8x"
      }
    },
    {
      "cell_type": "code",
      "source": [
        "import numpy as np\n",
        "\n",
        "u = np.array((3, 21, 6))\n",
        "v = np.array((22, 3, 5))\n",
        "\n",
        "dist = np.sqrt(np.sum(np.square(u-v)))\n",
        "\n",
        "print(dist)"
      ],
      "metadata": {
        "id": "N9IZBM_emeOg"
      },
      "execution_count": null,
      "outputs": []
    },
    {
      "cell_type": "markdown",
      "source": [
        "**12. Encuentre un vector v de magnitud 7 cuyos cosenos directores son**\n",
        "![image.png](data:image/png;base64,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)"
      ],
      "metadata": {
        "id": "FUcA-8mU0ca-"
      }
    },
    {
      "cell_type": "code",
      "source": [
        "# u:(1/√6, 1/√3, 1/√2)  (falta)\n",
        "\n",
        "vector = np.array([(1*math.sqrt(6)),(1*math.sqrt(3)),(1*math.sqrt(2))]) \n",
        "\n",
        "unit_vector = vector / np.linalg.norm (vector)\n",
        "\n",
        "print (unit_vector)\n"
      ],
      "metadata": {
        "colab": {
          "base_uri": "https://localhost:8080/"
        },
        "id": "sBzjAvgzfhvx",
        "outputId": "84b86c41-82cc-4e4e-cedb-33fedc7d200a"
      },
      "execution_count": null,
      "outputs": [
        {
          "output_type": "stream",
          "name": "stdout",
          "text": [
            "[0.73854895 0.52223297 0.42640143]\n"
          ]
        }
      ]
    },
    {
      "cell_type": "markdown",
      "source": [
        "**13. Encuentre la magnitud y los cosenos directores del vector dado:**"
      ],
      "metadata": {
        "id": "EQLoI9cc0mTL"
      }
    },
    {
      "cell_type": "code",
      "source": [
        "#A. v = 4i + 5j + 5k\n",
        "\n",
        "x = 4\n",
        "y = 5\n",
        "z = 5\n",
        "\n",
        "exp_x = math.pow(x,2)\n",
        "exp_y = math.pow(y,2)\n",
        "exp_z = math.pow(z,2)\n",
        "norma = math.sqrt(exp_x+exp_y+exp_z)\n",
        "\n",
        "cos_x = x/norma\n",
        "cos_y = y/norma\n",
        "cos_z = z/norma\n",
        "\n",
        "ang_x = np.arccos(cos_x)\n",
        "fun_pix = math.degrees(ang_x)\n",
        "ang_y = np.arccos(cos_y)\n",
        "fun_piy = math.degrees(ang_y)\n",
        "ang_z = np.arccos(cos_z)\n",
        "fun_piz = math.degrees(ang_z)\n",
        "\n",
        "print(\"El valor del angulo alfa es:\",fun_pix,\"grados\"\"\",\"y el valor en radianes es\",ang_x,\"pi radianes\")\n",
        "print(\"El valor del angulo alfa es:\",fun_piy,\"grados\"\"\",\"y el valor en radianes es\",ang_y,\"pi radianes\")\n",
        "print(\"El valor del angulo alfa es:\",fun_piz,\"grados\"\"\",\"y el valor en radianes es\",ang_z,\"pi radianes\")"
      ],
      "metadata": {
        "id": "Nnwe4XU-0C22"
      },
      "execution_count": null,
      "outputs": []
    },
    {
      "cell_type": "code",
      "source": [
        "#B. v = 4i - 10j - 5k\n",
        "\n",
        "x = 4\n",
        "y = -10\n",
        "z = -5\n",
        "\n",
        "exp_x = math.pow(x,2)\n",
        "exp_y = math.pow(y,2)\n",
        "exp_z = math.pow(z,2)\n",
        "norma = math.sqrt(exp_x+exp_y+exp_z)\n",
        "\n",
        "cos_x = x/norma\n",
        "cos_y = y/norma\n",
        "cos_z = z/norma\n",
        "\n",
        "ang_x = np.arccos(cos_x)\n",
        "fun_pix = math.degrees(ang_x)\n",
        "ang_y = np.arccos(cos_y)\n",
        "fun_piy = math.degrees(ang_y)\n",
        "ang_z = np.arccos(cos_z)\n",
        "fun_piz = math.degrees(ang_z)\n",
        "\n",
        "print(\"El valor del angulo alfa es:\",fun_pix,\"grados\"\"\",\"y el valor en radianes es\",ang_x,\"pi radianes\")\n",
        "print(\"El valor del angulo alfa es:\",fun_piy,\"grados\"\"\",\"y el valor en radianes es\",ang_y,\"pi radianes\")\n",
        "print(\"El valor del angulo alfa es:\",fun_piz,\"grados\"\"\",\"y el valor en radianes es\",ang_z,\"pi radianes\")"
      ],
      "metadata": {
        "id": "tIy_UdqN2B8a"
      },
      "execution_count": null,
      "outputs": []
    },
    {
      "cell_type": "markdown",
      "source": [
        "**14. Encuentre el producto cruz u x v, de cada par de vectores:**"
      ],
      "metadata": {
        "id": "qrQL576h2mem"
      }
    },
    {
      "cell_type": "code",
      "source": [
        "# A) U=3i -4j + 2k ; v= 6i-3j+5k\n",
        "\n",
        "u = np.array((3, -4, 2))\n",
        "v = np.array((6, -3, 5))\n",
        "c = np.cross (u,v)\n",
        "print (c)\n"
      ],
      "metadata": {
        "id": "ZcJfdANB0wQk"
      },
      "execution_count": null,
      "outputs": []
    },
    {
      "cell_type": "code",
      "source": [
        "# B) U=6i + 10j + 3k ; v= -10i+7j+9k\n",
        "\n",
        "u = np.array((6, 10, 3))\n",
        "v = np.array((-10, 7, 9))\n",
        "c = np.cross (u,v)\n",
        "print (c)"
      ],
      "metadata": {
        "id": "iHkKDvO627-R"
      },
      "execution_count": null,
      "outputs": []
    },
    {
      "cell_type": "markdown",
      "source": [
        "**15. Utilice el producto cruz para encontrar el seno del ángulo θ entre los vectores**\n",
        "u = 2i + j -k y\n",
        "v = -3i - 2j + 4k."
      ],
      "metadata": {
        "id": "NeVpQ0BC5sDc"
      }
    },
    {
      "cell_type": "markdown",
      "source": [
        "![Captura de Pantalla 2022-10-11 a la(s) 9.33.59 a.m..png](data:image/png;base64,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)"
      ],
      "metadata": {
        "id": "Xgs_fgEZTZh9"
      }
    },
    {
      "cell_type": "code",
      "source": [
        "import math\n",
        "import numpy as np\n",
        "\n",
        "uxv = [['i','j','k'],[2,1,-1],[-3,-2,4]]\n",
        "print('Producto cruz')\n",
        "print('uxv = 3k - 2i - 8j + 4i + 4j + 4k')\n",
        "print('uxv = 2i - 4j - k')\n",
        "\n",
        "producto_cruz = math.sqrt(2**2 + (-4)**2 + (-1)**2)\n",
        "print('|uxv|= ',producto_cruz)"
      ],
      "metadata": {
        "id": "7C9opsLF515A",
        "colab": {
          "base_uri": "https://localhost:8080/"
        },
        "outputId": "c452408f-9706-43c3-dc82-9caf1b592020"
      },
      "execution_count": 9,
      "outputs": [
        {
          "output_type": "stream",
          "name": "stdout",
          "text": [
            "Producto cruz\n",
            "uxv = 3k - 2i - 8j + 4i + 4j + 4k\n",
            "uxv = 2i - 4j - k\n",
            "|uxv|=  4.58257569495584\n"
          ]
        }
      ]
    },
    {
      "cell_type": "code",
      "source": [
        "print('Hallamos magnitud de |u| y |v|')\n",
        "magnitud_u = math.sqrt(2**2 + (1)**2 + (-1)**2)\n",
        "magnitud_v = math.sqrt((-3)**2 + (-2)**2 + (4)**2)\n",
        "print('|u|', magnitud_u)\n",
        "print('|v|', magnitud_v)"
      ],
      "metadata": {
        "colab": {
          "base_uri": "https://localhost:8080/"
        },
        "id": "j4NYNjbGh1X8",
        "outputId": "01117d5d-3e56-4346-c736-adbb3ba54d21"
      },
      "execution_count": 7,
      "outputs": [
        {
          "output_type": "stream",
          "name": "stdout",
          "text": [
            "Hallamos magnitud de |u| y |v|\n",
            "|u| 2.449489742783178\n",
            "|v| 5.385164807134504\n"
          ]
        }
      ]
    },
    {
      "cell_type": "code",
      "source": [
        "from numpy.matrixlib import mat\n",
        "angulo = (producto_cruz/(magnitud_u * magnitud_v))\n",
        "angulo = np.arcsin(angulo)\n",
        "print('angulo =', angulo)"
      ],
      "metadata": {
        "colab": {
          "base_uri": "https://localhost:8080/"
        },
        "id": "Xdc5aw4BjCLK",
        "outputId": "d45b4449-bc95-48e3-af92-2c72a8f62d1e"
      },
      "execution_count": 16,
      "outputs": [
        {
          "output_type": "stream",
          "name": "stdout",
          "text": [
            "angulo = 0.3548014267675211\n"
          ]
        }
      ]
    }
  ]
}