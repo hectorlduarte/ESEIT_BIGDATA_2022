{
  "nbformat": 4,
  "nbformat_minor": 0,
  "metadata": {
    "colab": {
      "provenance": [],
      "collapsed_sections": [],
      "include_colab_link": true
    },
    "kernelspec": {
      "name": "python3",
      "display_name": "Python 3"
    },
    "language_info": {
      "name": "python"
    }
  },
  "cells": [
    {
      "cell_type": "markdown",
      "metadata": {
        "id": "view-in-github",
        "colab_type": "text"
      },
      "source": [
        "<a href=\"https://colab.research.google.com/github/hectorlduarte/ESEIT_BIGDATA_2022/blob/main/taller_30_09_2022.ipynb\" target=\"_parent\"><img src=\"https://colab.research.google.com/assets/colab-badge.svg\" alt=\"Open In Colab\"/></a>"
      ]
    },
    {
      "cell_type": "code",
      "execution_count": null,
      "metadata": {
        "id": "jLpiRWchr9-l"
      },
      "outputs": [],
      "source": [
        "from PIL import Image\n",
        "import numpy as gfg\n",
        "import numpy as np\n",
        "import matplotlib.pyplot as plt \n",
        "import cv2\n",
        "import matplotlib\n",
        "\n",
        "plt.rcParams['image.cmap'] = 'gray' #configuracion necesaria de pyplot para ver las imagenes en escala de grises\n",
        "%matplotlib inline"
      ]
    },
    {
      "cell_type": "code",
      "source": [
        "#Seleccionamos tamaño de la matriz\n",
        "size=(30,30)\n",
        "# Generamos matriz (para el caso de ceros)\n",
        "imagen_negra = np.zeros(size)\n",
        "#visualizamos la matriz\n",
        "plt.imshow(imagen_negra,vmin=0,vmax=1)# (indicar vmin y vmax - escala grises)"
      ],
      "metadata": {
        "colab": {
          "base_uri": "https://localhost:8080/",
          "height": 283
        },
        "id": "vhlgUFPutkKW",
        "outputId": "f8a6f9ff-2908-46c4-f3e1-0db38e26f7af"
      },
      "execution_count": null,
      "outputs": [
        {
          "output_type": "execute_result",
          "data": {
            "text/plain": [
              "<matplotlib.image.AxesImage at 0x7f1a2c13a950>"
            ]
          },
          "metadata": {},
          "execution_count": 2
        },
        {
          "output_type": "display_data",
          "data": {
            "text/plain": [
              "<Figure size 432x288 with 1 Axes>"
            ],
            "image/png": "[encoded data removed]"
          },
          "metadata": {
            "needs_background": "light"
          }
        }
      ]
    },
    {
      "cell_type": "code",
      "source": [
        " #matriz blancos\n",
        "plt.figure()\n",
        "imagen_blanca = np.ones(size)*0.5\n",
        "#visualizamos la matriz\n",
        "plt.imshow(imagen_blanca,vmin=0,vmax=1)# (indicar vmin y vmax - escala grises)\n",
        "#Matriz de grises"
      ],
      "metadata": {
        "colab": {
          "base_uri": "https://localhost:8080/",
          "height": 283
        },
        "id": "CbN0L64HtmRO",
        "outputId": "9f609868-e9c8-4f1c-d04d-7f41a74be974"
      },
      "execution_count": null,
      "outputs": [
        {
          "output_type": "execute_result",
          "data": {
            "text/plain": [
              "<matplotlib.image.AxesImage at 0x7f1a2bc30dd0>"
            ]
          },
          "metadata": {},
          "execution_count": 3
        },
        {
          "output_type": "display_data",
          "data": {
            "text/plain": [
              "<Figure size 432x288 with 1 Axes>"
            ],
            "image/png": "[encoded data removed]"
          },
          "metadata": {
            "needs_background": "light"
          }
        }
      ]
    },
    {
      "cell_type": "code",
      "source": [
        "#La mitad del lado izquierdo blanco y la otra negro\n",
        "x = np.linspace(2, -2, 2)\n",
        "xx = x + 1j * x[:, np.newaxis] \n",
        "out = np.exp(xx)\n",
        "\n",
        "plt.imshow(np.abs(out), extent=[-2, 2, -2, 2])\n"
      ],
      "metadata": {
        "colab": {
          "base_uri": "https://localhost:8080/",
          "height": 286
        },
        "id": "-gQseK4eCZB1",
        "outputId": "ad76decd-0927-44f9-90ab-2f07321ffcad"
      },
      "execution_count": null,
      "outputs": [
        {
          "output_type": "execute_result",
          "data": {
            "text/plain": [
              "<matplotlib.image.AxesImage at 0x7f1a2bc20f90>"
            ]
          },
          "metadata": {},
          "execution_count": 4
        },
        {
          "output_type": "display_data",
          "data": {
            "text/plain": [
              "<Figure size 432x288 with 1 Axes>"
            ],
            "image/png": "[encoded data removed]"
          },
          "metadata": {
            "needs_background": "light"
          }
        }
      ]
    },
    {
      "cell_type": "code",
      "source": [
        "#Imprimir matrix negro y blanco\n",
        "x = np.linspace(-2, 2, 2)\n",
        "xx = x + 1j * x[:, np.newaxis] \n",
        "out = np.exp(xx)\n",
        "\n",
        "plt.imshow(np.abs(out), extent=[-2, 2, -2, 2])"
      ],
      "metadata": {
        "colab": {
          "base_uri": "https://localhost:8080/",
          "height": 286
        },
        "id": "_coVEX2vNtmh",
        "outputId": "62fe73c0-f415-4211-8c9a-45b5b068dfe7"
      },
      "execution_count": null,
      "outputs": [
        {
          "output_type": "execute_result",
          "data": {
            "text/plain": [
              "<matplotlib.image.AxesImage at 0x7f1a2bc3f0d0>"
            ]
          },
          "metadata": {},
          "execution_count": 5
        },
        {
          "output_type": "display_data",
          "data": {
            "text/plain": [
              "<Figure size 432x288 with 1 Axes>"
            ],
            "image/png": "[encoded data removed]"
          },
          "metadata": {
            "needs_background": "light"
          }
        }
      ]
    },
    {
      "cell_type": "code",
      "source": [
        "#tamaño de las matrices a visualizar\n",
        "size=(5,5)\n",
        "imagen_aleatoria = np.random.rand(size[0],size[1])\n",
        "plt.imshow(imagen_aleatoria,vmin=0,vmax=1)"
      ],
      "metadata": {
        "colab": {
          "base_uri": "https://localhost:8080/",
          "height": 282
        },
        "id": "dbd2xtmaRCyS",
        "outputId": "a4940241-865d-47bf-b3ce-b86972aba052"
      },
      "execution_count": null,
      "outputs": [
        {
          "output_type": "execute_result",
          "data": {
            "text/plain": [
              "<matplotlib.image.AxesImage at 0x7f1a2bae3a90>"
            ]
          },
          "metadata": {},
          "execution_count": 6
        },
        {
          "output_type": "display_data",
          "data": {
            "text/plain": [
              "<Figure size 432x288 with 1 Axes>"
            ],
            "image/png": "[encoded data removed]"
          },
          "metadata": {
            "needs_background": "light"
          }
        }
      ]
    },
    {
      "cell_type": "code",
      "source": [
        "color = [0,0,0]\n",
        "filas, columnas =300, 300\n",
        "\n",
        "n = 8\n",
        "nI = filas/n\n",
        "nJ = columnas/n\n",
        "\n",
        "img = np.ones((filas, columnas, 3))\n",
        "\n",
        "def pintar(img,x0,x1,y0,y1,color):\n",
        "    for x in range(int(x0),int(x1)):\n",
        "        for y in range(int(y0),int(y1)):\n",
        "            img[x][y] = np.array(color)\n",
        "\n",
        "for i in range(n):\n",
        "    for j in range(n):\n",
        "        #if (i/2)<=1.5:\n",
        "        if i<4:\n",
        "          a=1\n",
        "        else:\n",
        "            pintar(img,i*nI,(i+1)*nI,j*nJ,(j+1)*nJ,color)\n",
        "\n",
        "\n",
        "im = Image.fromarray(np.uint8(img*255))\n",
        "\n",
        "im"
      ],
      "metadata": {
        "colab": {
          "base_uri": "https://localhost:8080/",
          "height": 317
        },
        "id": "OvLXUu4xTBdV",
        "outputId": "78761cba-5d11-4414-bee5-c1ea579386ad"
      },
      "execution_count": null,
      "outputs": [
        {
          "output_type": "execute_result",
          "data": {
            "text/plain": [
              "<PIL.Image.Image image mode=RGB size=300x300 at 0x7F1A2BB19610>"
            ],
            "image/png": "[encoded data removed]"
          },
          "metadata": {},
          "execution_count": 7
        }
      ]
    },
    {
      "cell_type": "code",
      "source": [
        "color = [0,0,0]\n",
        "filas, columnas =300, 300\n",
        "\n",
        "n = 8\n",
        "nI = filas/n\n",
        "nJ = columnas/n\n",
        "\n",
        "img = np.ones((filas, columnas, 3))\n",
        "\n",
        "def pintar(img,x0,x1,y0,y1,color):\n",
        "    for x in range(int(x0),int(x1)):\n",
        "        for y in range(int(y0),int(y1)):\n",
        "            img[x][y] = np.array(color)\n",
        "\n",
        "for i in range(n):\n",
        "    for j in range(n):\n",
        "        if (i+j)%2==1:\n",
        "            pintar(img,i*nI,(i+1)*nI,j*nJ,(j+1)*nJ,color)\n",
        "\n",
        "\n",
        "im = Image.fromarray(np.uint8(img*255))\n",
        "\n",
        "im"
      ],
      "metadata": {
        "colab": {
          "base_uri": "https://localhost:8080/",
          "height": 317
        },
        "id": "8f94-rRT32tQ",
        "outputId": "4eca10db-62bd-4d9a-c4cc-873ecd34c237"
      },
      "execution_count": null,
      "outputs": [
        {
          "output_type": "execute_result",
          "data": {
            "text/plain": [
              "<PIL.Image.Image image mode=RGB size=300x300 at 0x7F1A2BAA3990>"
            ],
            "image/png": "[encoded data removed]"
          },
          "metadata": {},
          "execution_count": 8
        }
      ]
    },
    {
      "cell_type": "code",
      "source": [
        "\n",
        "color = [0,0,0]\n",
        "filas, columnas =300, 300\n",
        "\n",
        "n = 8\n",
        "nI = filas/n\n",
        "nJ = columnas/n\n",
        "\n",
        "\n",
        "n=int(input(\"¿cuántas filas quieres? (maximo de 8): \"))\n",
        "#y=int(input(\"¿cuántas columnas quieres?: \"))\n",
        "y = n\n",
        "\n",
        "img = np.ones((filas, columnas, 3))\n",
        "\n",
        "def pintar(img,x0,x1,y0,y1,color):\n",
        "    for x in range(int(x0),int(x1)):\n",
        "        for y in range(int(y0),int(y1)):\n",
        "            img[x][y] = np.array(color)\n",
        "\n",
        "\n",
        "for i in range(n):\n",
        "    for j in range(n):\n",
        "        if (i+j)%2==1:\n",
        "            pintar(img,i*nI,(i+1)*nI,j*nJ,(j+1)*nJ,color)\n",
        "\n",
        "\n",
        "im = Image.fromarray(np.uint8(img*255))\n",
        "\n",
        "im"
      ],
      "metadata": {
        "colab": {
          "base_uri": "https://localhost:8080/",
          "height": 334
        },
        "id": "smFUfuoQ2sbh",
        "outputId": "4ce494f0-ad66-4906-924a-f00a7a6b9f03"
      },
      "execution_count": null,
      "outputs": [
        {
          "name": "stdout",
          "output_type": "stream",
          "text": [
            "¿cuántas filas quieres? (maximo de 8): 5\n"
          ]
        },
        {
          "output_type": "execute_result",
          "data": {
            "text/plain": [
              "<PIL.Image.Image image mode=RGB size=300x300 at 0x7F1A2B01E810>"
            ],
            "image/png": "[encoded data removed]"
          },
          "metadata": {},
          "execution_count": 22
        }
      ]
    }
  ]
}