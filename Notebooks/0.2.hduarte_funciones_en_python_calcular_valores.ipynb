{
 "cells": [
  {
   "cell_type": "code",
   "execution_count": null,
   "metadata": {},
   "outputs": [],
   "source": [
    "# Obtener la media y desviación estandar\n",
    "\n",
    "# Calcular_valores(lista_numeros)\n",
    "#   suma = calcular_suma(lista_numeros)\n",
    "#   media, dev_std = calcular_valores_centrales(lista_numeros)\n",
    "#   nin_val, max_val = cacular_extreemos()"
   ]
  },
  {
   "cell_type": "code",
   "execution_count": 2,
   "metadata": {},
   "outputs": [
    {
     "name": "stderr",
     "output_type": "stream",
     "text": [
      "usage: ipykernel_launcher.py [-h]\n",
      "ipykernel_launcher.py: error: unrecognized arguments: -f /Users/wolfrain/Library/Jupyter/runtime/kernel-c3fcc80d-e625-49ef-b5a9-dab6d36365e2.json\n"
     ]
    },
    {
     "ename": "SystemExit",
     "evalue": "2",
     "output_type": "error",
     "traceback": [
      "An exception has occurred, use %tb to see the full traceback.\n",
      "\u001b[0;31mSystemExit\u001b[0m\u001b[0;31m:\u001b[0m 2\n"
     ]
    },
    {
     "name": "stderr",
     "output_type": "stream",
     "text": [
      "/Users/wolfrain/Library/Python/3.9/lib/python/site-packages/IPython/core/interactiveshell.py:3406: UserWarning: To exit: use 'exit', 'quit', or Ctrl-D.\n",
      "  warn(\"To exit: use 'exit', 'quit', or Ctrl-D.\", stacklevel=1)\n"
     ]
    }
   ],
   "source": [
    "import numpy as np\n",
    "import argparse\n",
    "\n",
    "def calcular_suma(lista_numeros):\n",
    "    \"\"\"Calcular la suma de una lista de numero\n",
    "\n",
    "    Args:\n",
    "        lista_numeros (lista): Lista números con valores enteros\n",
    "\n",
    "    Returns:\n",
    "        tupla: suma\n",
    "    \"\"\"\n",
    "    resultado = np.sum(lista_numeros)\n",
    "    \n",
    "    return resultado\n",
    "\n",
    "def calcular_valores_centrales(lista_numeros):\n",
    "    media = np.mean(lista_numeros)\n",
    "    dev_std = np.std(lista_numeros)\n",
    "    \n",
    "    return media, dev_std\n",
    "\n",
    "def calcular_extremos(lista_numeros):\n",
    "    min_val = np.min(lista_numeros)\n",
    "    max_val = np.max(lista_numeros)\n",
    "\n",
    "    return min_val, max_val\n",
    "\n",
    "def calcular_valores(lista_numeros):\n",
    "    suma = calcular_suma(lista_numeros)\n",
    "    media, dev_std = calcular_valores_centrales(lista_numeros)\n",
    "    min_val, max_val = calcular_extremos(lista_numeros)\n",
    "\n",
    "    return suma, media, dev_std, min_val, max_val \n",
    "\n",
    "def main():\n",
    "    parser = argparse.ArgumentParser()\n",
    "    parser.parse_args()\n",
    "    lista_numeros = [1, 5, 8, 3, 45, 93]\n",
    "    suma, media, dev_std, min_val, max_val = calcular_valores(lista_numeros)\n",
    "    print (suma, media, dev_std, min_val, max_val)\n",
    "\n",
    "if __name__ == '__main__':\n",
    "    main()"
   ]
  }
 ],
 "metadata": {
  "kernelspec": {
   "display_name": "Python 3.9.7 64-bit",
   "language": "python",
   "name": "python3"
  },
  "language_info": {
   "codemirror_mode": {
    "name": "ipython",
    "version": 3
   },
   "file_extension": ".py",
   "mimetype": "text/x-python",
   "name": "python",
   "nbconvert_exporter": "python",
   "pygments_lexer": "ipython3",
   "version": "3.9.7"
  },
  "orig_nbformat": 4,
  "vscode": {
   "interpreter": {
    "hash": "aee8b7b246df8f9039afb4144a1f6fd8d2ca17a180786b69acc140d282b71a49"
   }
  }
 },
 "nbformat": 4,
 "nbformat_minor": 2
}
